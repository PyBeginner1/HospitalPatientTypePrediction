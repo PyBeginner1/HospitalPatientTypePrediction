{
  "nbformat": 4,
  "nbformat_minor": 0,
  "metadata": {
    "colab": {
      "name": "Hospital Patient Type Prediction",
      "provenance": [],
      "collapsed_sections": [],
      "authorship_tag": "ABX9TyNztiXFk5uaRJKULlsVbtMV",
      "include_colab_link": true
    },
    "kernelspec": {
      "name": "python3",
      "display_name": "Python 3"
    },
    "language_info": {
      "name": "python"
    }
  },
  "cells": [
    {
      "cell_type": "markdown",
      "metadata": {
        "id": "view-in-github",
        "colab_type": "text"
      },
      "source": [
        "<a href=\"https://colab.research.google.com/github/PyBeginner1/HospitalPatientTypePrediction/blob/main/Hospital_Patient_Type_Prediction.ipynb\" target=\"_parent\"><img src=\"https://colab.research.google.com/assets/colab-badge.svg\" alt=\"Open In Colab\"/></a>"
      ]
    },
    {
      "cell_type": "code",
      "metadata": {
        "id": "c_68tODquHDN"
      },
      "source": [
        "import numpy as np\n",
        "import pandas as pd\n",
        "\n",
        "from sklearn.model_selection import train_test_split\n",
        "from sklearn.preprocessing import StandardScaler\n",
        "\n",
        "from sklearn.linear_model import LogisticRegression\n",
        "from sklearn.tree import DecisionTreeClassifier\n",
        "from sklearn.neural_network import MLPClassifier\n",
        "from sklearn.ensemble import RandomForestClassifier, GradientBoostingClassifier\n",
        "\n",
        "from sklearn.metrics import accuracy_score, f1_score\n",
        "\n",
        "import warnings\n",
        "warnings.filterwarnings(action = 'ignore')\n"
      ],
      "execution_count": 30,
      "outputs": []
    },
    {
      "cell_type": "code",
      "metadata": {
        "id": "uleUYPRHveQQ"
      },
      "source": [
        "data = pd.read_csv('/content/patient.csv')"
      ],
      "execution_count": 11,
      "outputs": []
    },
    {
      "cell_type": "code",
      "metadata": {
        "colab": {
          "base_uri": "https://localhost:8080/",
          "height": 422
        },
        "id": "hMZxtEaUvig1",
        "outputId": "e7a6ffe7-f2ba-44b3-a841-24a4ee12405a"
      },
      "source": [
        "data"
      ],
      "execution_count": 12,
      "outputs": [
        {
          "output_type": "execute_result",
          "data": {
            "text/html": [
              "<div>\n",
              "<style scoped>\n",
              "    .dataframe tbody tr th:only-of-type {\n",
              "        vertical-align: middle;\n",
              "    }\n",
              "\n",
              "    .dataframe tbody tr th {\n",
              "        vertical-align: top;\n",
              "    }\n",
              "\n",
              "    .dataframe thead th {\n",
              "        text-align: right;\n",
              "    }\n",
              "</style>\n",
              "<table border=\"1\" class=\"dataframe\">\n",
              "  <thead>\n",
              "    <tr style=\"text-align: right;\">\n",
              "      <th></th>\n",
              "      <th>HAEMATOCRIT</th>\n",
              "      <th>HAEMOGLOBINS</th>\n",
              "      <th>ERYTHROCYTE</th>\n",
              "      <th>LEUCOCYTE</th>\n",
              "      <th>THROMBOCYTE</th>\n",
              "      <th>MCH</th>\n",
              "      <th>MCHC</th>\n",
              "      <th>MCV</th>\n",
              "      <th>AGE</th>\n",
              "      <th>SEX</th>\n",
              "      <th>SOURCE</th>\n",
              "    </tr>\n",
              "  </thead>\n",
              "  <tbody>\n",
              "    <tr>\n",
              "      <th>0</th>\n",
              "      <td>35.1</td>\n",
              "      <td>11.8</td>\n",
              "      <td>4.65</td>\n",
              "      <td>6.3</td>\n",
              "      <td>310</td>\n",
              "      <td>25.4</td>\n",
              "      <td>33.6</td>\n",
              "      <td>75.5</td>\n",
              "      <td>1</td>\n",
              "      <td>F</td>\n",
              "      <td>out</td>\n",
              "    </tr>\n",
              "    <tr>\n",
              "      <th>1</th>\n",
              "      <td>43.5</td>\n",
              "      <td>14.8</td>\n",
              "      <td>5.39</td>\n",
              "      <td>12.7</td>\n",
              "      <td>334</td>\n",
              "      <td>27.5</td>\n",
              "      <td>34.0</td>\n",
              "      <td>80.7</td>\n",
              "      <td>1</td>\n",
              "      <td>F</td>\n",
              "      <td>out</td>\n",
              "    </tr>\n",
              "    <tr>\n",
              "      <th>2</th>\n",
              "      <td>33.5</td>\n",
              "      <td>11.3</td>\n",
              "      <td>4.74</td>\n",
              "      <td>13.2</td>\n",
              "      <td>305</td>\n",
              "      <td>23.8</td>\n",
              "      <td>33.7</td>\n",
              "      <td>70.7</td>\n",
              "      <td>1</td>\n",
              "      <td>F</td>\n",
              "      <td>out</td>\n",
              "    </tr>\n",
              "    <tr>\n",
              "      <th>3</th>\n",
              "      <td>39.1</td>\n",
              "      <td>13.7</td>\n",
              "      <td>4.98</td>\n",
              "      <td>10.5</td>\n",
              "      <td>366</td>\n",
              "      <td>27.5</td>\n",
              "      <td>35.0</td>\n",
              "      <td>78.5</td>\n",
              "      <td>1</td>\n",
              "      <td>F</td>\n",
              "      <td>out</td>\n",
              "    </tr>\n",
              "    <tr>\n",
              "      <th>4</th>\n",
              "      <td>30.9</td>\n",
              "      <td>9.9</td>\n",
              "      <td>4.23</td>\n",
              "      <td>22.1</td>\n",
              "      <td>333</td>\n",
              "      <td>23.4</td>\n",
              "      <td>32.0</td>\n",
              "      <td>73.0</td>\n",
              "      <td>1</td>\n",
              "      <td>M</td>\n",
              "      <td>out</td>\n",
              "    </tr>\n",
              "    <tr>\n",
              "      <th>...</th>\n",
              "      <td>...</td>\n",
              "      <td>...</td>\n",
              "      <td>...</td>\n",
              "      <td>...</td>\n",
              "      <td>...</td>\n",
              "      <td>...</td>\n",
              "      <td>...</td>\n",
              "      <td>...</td>\n",
              "      <td>...</td>\n",
              "      <td>...</td>\n",
              "      <td>...</td>\n",
              "    </tr>\n",
              "    <tr>\n",
              "      <th>4407</th>\n",
              "      <td>32.8</td>\n",
              "      <td>10.4</td>\n",
              "      <td>3.49</td>\n",
              "      <td>8.1</td>\n",
              "      <td>72</td>\n",
              "      <td>29.8</td>\n",
              "      <td>31.7</td>\n",
              "      <td>94.0</td>\n",
              "      <td>92</td>\n",
              "      <td>F</td>\n",
              "      <td>in</td>\n",
              "    </tr>\n",
              "    <tr>\n",
              "      <th>4408</th>\n",
              "      <td>33.7</td>\n",
              "      <td>10.8</td>\n",
              "      <td>3.67</td>\n",
              "      <td>6.7</td>\n",
              "      <td>70</td>\n",
              "      <td>29.4</td>\n",
              "      <td>32.0</td>\n",
              "      <td>91.8</td>\n",
              "      <td>92</td>\n",
              "      <td>F</td>\n",
              "      <td>in</td>\n",
              "    </tr>\n",
              "    <tr>\n",
              "      <th>4409</th>\n",
              "      <td>33.2</td>\n",
              "      <td>11.2</td>\n",
              "      <td>3.47</td>\n",
              "      <td>7.2</td>\n",
              "      <td>235</td>\n",
              "      <td>32.3</td>\n",
              "      <td>33.7</td>\n",
              "      <td>95.7</td>\n",
              "      <td>93</td>\n",
              "      <td>F</td>\n",
              "      <td>out</td>\n",
              "    </tr>\n",
              "    <tr>\n",
              "      <th>4410</th>\n",
              "      <td>31.5</td>\n",
              "      <td>10.4</td>\n",
              "      <td>3.15</td>\n",
              "      <td>9.1</td>\n",
              "      <td>187</td>\n",
              "      <td>33.0</td>\n",
              "      <td>33.0</td>\n",
              "      <td>100.0</td>\n",
              "      <td>98</td>\n",
              "      <td>F</td>\n",
              "      <td>in</td>\n",
              "    </tr>\n",
              "    <tr>\n",
              "      <th>4411</th>\n",
              "      <td>33.5</td>\n",
              "      <td>10.9</td>\n",
              "      <td>3.44</td>\n",
              "      <td>5.8</td>\n",
              "      <td>275</td>\n",
              "      <td>31.7</td>\n",
              "      <td>32.5</td>\n",
              "      <td>97.4</td>\n",
              "      <td>99</td>\n",
              "      <td>F</td>\n",
              "      <td>out</td>\n",
              "    </tr>\n",
              "  </tbody>\n",
              "</table>\n",
              "<p>4412 rows × 11 columns</p>\n",
              "</div>"
            ],
            "text/plain": [
              "      HAEMATOCRIT  HAEMOGLOBINS  ERYTHROCYTE  LEUCOCYTE  ...    MCV  AGE  SEX  SOURCE\n",
              "0            35.1          11.8         4.65        6.3  ...   75.5    1    F     out\n",
              "1            43.5          14.8         5.39       12.7  ...   80.7    1    F     out\n",
              "2            33.5          11.3         4.74       13.2  ...   70.7    1    F     out\n",
              "3            39.1          13.7         4.98       10.5  ...   78.5    1    F     out\n",
              "4            30.9           9.9         4.23       22.1  ...   73.0    1    M     out\n",
              "...           ...           ...          ...        ...  ...    ...  ...  ...     ...\n",
              "4407         32.8          10.4         3.49        8.1  ...   94.0   92    F      in\n",
              "4408         33.7          10.8         3.67        6.7  ...   91.8   92    F      in\n",
              "4409         33.2          11.2         3.47        7.2  ...   95.7   93    F     out\n",
              "4410         31.5          10.4         3.15        9.1  ...  100.0   98    F      in\n",
              "4411         33.5          10.9         3.44        5.8  ...   97.4   99    F     out\n",
              "\n",
              "[4412 rows x 11 columns]"
            ]
          },
          "metadata": {
            "tags": []
          },
          "execution_count": 12
        }
      ]
    },
    {
      "cell_type": "code",
      "metadata": {
        "colab": {
          "base_uri": "https://localhost:8080/"
        },
        "id": "ekAkLQSMvi-N",
        "outputId": "a8acf657-eb50-492a-afff-91c1125fc431"
      },
      "source": [
        "data.info()"
      ],
      "execution_count": 8,
      "outputs": [
        {
          "output_type": "stream",
          "text": [
            "<class 'pandas.core.frame.DataFrame'>\n",
            "RangeIndex: 4412 entries, 0 to 4411\n",
            "Data columns (total 11 columns):\n",
            " #   Column        Non-Null Count  Dtype  \n",
            "---  ------        --------------  -----  \n",
            " 0   HAEMATOCRIT   4412 non-null   float64\n",
            " 1   HAEMOGLOBINS  4412 non-null   float64\n",
            " 2   ERYTHROCYTE   4412 non-null   float64\n",
            " 3   LEUCOCYTE     4412 non-null   float64\n",
            " 4   THROMBOCYTE   4412 non-null   int64  \n",
            " 5   MCH           4412 non-null   float64\n",
            " 6   MCHC          4412 non-null   float64\n",
            " 7   MCV           4412 non-null   float64\n",
            " 8   AGE           4412 non-null   int64  \n",
            " 9   SEX           4412 non-null   object \n",
            " 10  SOURCE        4412 non-null   object \n",
            "dtypes: float64(7), int64(2), object(2)\n",
            "memory usage: 379.3+ KB\n"
          ],
          "name": "stdout"
        }
      ]
    },
    {
      "cell_type": "markdown",
      "metadata": {
        "id": "WGjjhHf7xn0E"
      },
      "source": [
        "Binary Encoding SEX column"
      ]
    },
    {
      "cell_type": "code",
      "metadata": {
        "id": "hYLd_xe-ws1u"
      },
      "source": [
        "data['SEX'] = data['SEX'].replace({'F' : 0, 'M' : 1})"
      ],
      "execution_count": 13,
      "outputs": []
    },
    {
      "cell_type": "code",
      "metadata": {
        "colab": {
          "base_uri": "https://localhost:8080/",
          "height": 422
        },
        "id": "fPb1mGd3xYcG",
        "outputId": "1309d790-2839-41ca-e132-55ef54f5e457"
      },
      "source": [
        "data"
      ],
      "execution_count": 14,
      "outputs": [
        {
          "output_type": "execute_result",
          "data": {
            "text/html": [
              "<div>\n",
              "<style scoped>\n",
              "    .dataframe tbody tr th:only-of-type {\n",
              "        vertical-align: middle;\n",
              "    }\n",
              "\n",
              "    .dataframe tbody tr th {\n",
              "        vertical-align: top;\n",
              "    }\n",
              "\n",
              "    .dataframe thead th {\n",
              "        text-align: right;\n",
              "    }\n",
              "</style>\n",
              "<table border=\"1\" class=\"dataframe\">\n",
              "  <thead>\n",
              "    <tr style=\"text-align: right;\">\n",
              "      <th></th>\n",
              "      <th>HAEMATOCRIT</th>\n",
              "      <th>HAEMOGLOBINS</th>\n",
              "      <th>ERYTHROCYTE</th>\n",
              "      <th>LEUCOCYTE</th>\n",
              "      <th>THROMBOCYTE</th>\n",
              "      <th>MCH</th>\n",
              "      <th>MCHC</th>\n",
              "      <th>MCV</th>\n",
              "      <th>AGE</th>\n",
              "      <th>SEX</th>\n",
              "      <th>SOURCE</th>\n",
              "    </tr>\n",
              "  </thead>\n",
              "  <tbody>\n",
              "    <tr>\n",
              "      <th>0</th>\n",
              "      <td>35.1</td>\n",
              "      <td>11.8</td>\n",
              "      <td>4.65</td>\n",
              "      <td>6.3</td>\n",
              "      <td>310</td>\n",
              "      <td>25.4</td>\n",
              "      <td>33.6</td>\n",
              "      <td>75.5</td>\n",
              "      <td>1</td>\n",
              "      <td>0</td>\n",
              "      <td>out</td>\n",
              "    </tr>\n",
              "    <tr>\n",
              "      <th>1</th>\n",
              "      <td>43.5</td>\n",
              "      <td>14.8</td>\n",
              "      <td>5.39</td>\n",
              "      <td>12.7</td>\n",
              "      <td>334</td>\n",
              "      <td>27.5</td>\n",
              "      <td>34.0</td>\n",
              "      <td>80.7</td>\n",
              "      <td>1</td>\n",
              "      <td>0</td>\n",
              "      <td>out</td>\n",
              "    </tr>\n",
              "    <tr>\n",
              "      <th>2</th>\n",
              "      <td>33.5</td>\n",
              "      <td>11.3</td>\n",
              "      <td>4.74</td>\n",
              "      <td>13.2</td>\n",
              "      <td>305</td>\n",
              "      <td>23.8</td>\n",
              "      <td>33.7</td>\n",
              "      <td>70.7</td>\n",
              "      <td>1</td>\n",
              "      <td>0</td>\n",
              "      <td>out</td>\n",
              "    </tr>\n",
              "    <tr>\n",
              "      <th>3</th>\n",
              "      <td>39.1</td>\n",
              "      <td>13.7</td>\n",
              "      <td>4.98</td>\n",
              "      <td>10.5</td>\n",
              "      <td>366</td>\n",
              "      <td>27.5</td>\n",
              "      <td>35.0</td>\n",
              "      <td>78.5</td>\n",
              "      <td>1</td>\n",
              "      <td>0</td>\n",
              "      <td>out</td>\n",
              "    </tr>\n",
              "    <tr>\n",
              "      <th>4</th>\n",
              "      <td>30.9</td>\n",
              "      <td>9.9</td>\n",
              "      <td>4.23</td>\n",
              "      <td>22.1</td>\n",
              "      <td>333</td>\n",
              "      <td>23.4</td>\n",
              "      <td>32.0</td>\n",
              "      <td>73.0</td>\n",
              "      <td>1</td>\n",
              "      <td>1</td>\n",
              "      <td>out</td>\n",
              "    </tr>\n",
              "    <tr>\n",
              "      <th>...</th>\n",
              "      <td>...</td>\n",
              "      <td>...</td>\n",
              "      <td>...</td>\n",
              "      <td>...</td>\n",
              "      <td>...</td>\n",
              "      <td>...</td>\n",
              "      <td>...</td>\n",
              "      <td>...</td>\n",
              "      <td>...</td>\n",
              "      <td>...</td>\n",
              "      <td>...</td>\n",
              "    </tr>\n",
              "    <tr>\n",
              "      <th>4407</th>\n",
              "      <td>32.8</td>\n",
              "      <td>10.4</td>\n",
              "      <td>3.49</td>\n",
              "      <td>8.1</td>\n",
              "      <td>72</td>\n",
              "      <td>29.8</td>\n",
              "      <td>31.7</td>\n",
              "      <td>94.0</td>\n",
              "      <td>92</td>\n",
              "      <td>0</td>\n",
              "      <td>in</td>\n",
              "    </tr>\n",
              "    <tr>\n",
              "      <th>4408</th>\n",
              "      <td>33.7</td>\n",
              "      <td>10.8</td>\n",
              "      <td>3.67</td>\n",
              "      <td>6.7</td>\n",
              "      <td>70</td>\n",
              "      <td>29.4</td>\n",
              "      <td>32.0</td>\n",
              "      <td>91.8</td>\n",
              "      <td>92</td>\n",
              "      <td>0</td>\n",
              "      <td>in</td>\n",
              "    </tr>\n",
              "    <tr>\n",
              "      <th>4409</th>\n",
              "      <td>33.2</td>\n",
              "      <td>11.2</td>\n",
              "      <td>3.47</td>\n",
              "      <td>7.2</td>\n",
              "      <td>235</td>\n",
              "      <td>32.3</td>\n",
              "      <td>33.7</td>\n",
              "      <td>95.7</td>\n",
              "      <td>93</td>\n",
              "      <td>0</td>\n",
              "      <td>out</td>\n",
              "    </tr>\n",
              "    <tr>\n",
              "      <th>4410</th>\n",
              "      <td>31.5</td>\n",
              "      <td>10.4</td>\n",
              "      <td>3.15</td>\n",
              "      <td>9.1</td>\n",
              "      <td>187</td>\n",
              "      <td>33.0</td>\n",
              "      <td>33.0</td>\n",
              "      <td>100.0</td>\n",
              "      <td>98</td>\n",
              "      <td>0</td>\n",
              "      <td>in</td>\n",
              "    </tr>\n",
              "    <tr>\n",
              "      <th>4411</th>\n",
              "      <td>33.5</td>\n",
              "      <td>10.9</td>\n",
              "      <td>3.44</td>\n",
              "      <td>5.8</td>\n",
              "      <td>275</td>\n",
              "      <td>31.7</td>\n",
              "      <td>32.5</td>\n",
              "      <td>97.4</td>\n",
              "      <td>99</td>\n",
              "      <td>0</td>\n",
              "      <td>out</td>\n",
              "    </tr>\n",
              "  </tbody>\n",
              "</table>\n",
              "<p>4412 rows × 11 columns</p>\n",
              "</div>"
            ],
            "text/plain": [
              "      HAEMATOCRIT  HAEMOGLOBINS  ERYTHROCYTE  LEUCOCYTE  ...    MCV  AGE  SEX  SOURCE\n",
              "0            35.1          11.8         4.65        6.3  ...   75.5    1    0     out\n",
              "1            43.5          14.8         5.39       12.7  ...   80.7    1    0     out\n",
              "2            33.5          11.3         4.74       13.2  ...   70.7    1    0     out\n",
              "3            39.1          13.7         4.98       10.5  ...   78.5    1    0     out\n",
              "4            30.9           9.9         4.23       22.1  ...   73.0    1    1     out\n",
              "...           ...           ...          ...        ...  ...    ...  ...  ...     ...\n",
              "4407         32.8          10.4         3.49        8.1  ...   94.0   92    0      in\n",
              "4408         33.7          10.8         3.67        6.7  ...   91.8   92    0      in\n",
              "4409         33.2          11.2         3.47        7.2  ...   95.7   93    0     out\n",
              "4410         31.5          10.4         3.15        9.1  ...  100.0   98    0      in\n",
              "4411         33.5          10.9         3.44        5.8  ...   97.4   99    0     out\n",
              "\n",
              "[4412 rows x 11 columns]"
            ]
          },
          "metadata": {
            "tags": []
          },
          "execution_count": 14
        }
      ]
    },
    {
      "cell_type": "markdown",
      "metadata": {
        "id": "maU1RVETx-H8"
      },
      "source": [
        "Splitting features & target"
      ]
    },
    {
      "cell_type": "code",
      "metadata": {
        "id": "B2evsN9wxZSO"
      },
      "source": [
        "X = data.drop('SOURCE', axis = 1)\n",
        "Y = data['SOURCE']"
      ],
      "execution_count": 16,
      "outputs": []
    },
    {
      "cell_type": "code",
      "metadata": {
        "colab": {
          "base_uri": "https://localhost:8080/",
          "height": 422
        },
        "id": "0DP7j3-_yH29",
        "outputId": "d8f83328-f432-4fb9-c4a0-4c491adc0c42"
      },
      "source": [
        "X"
      ],
      "execution_count": 17,
      "outputs": [
        {
          "output_type": "execute_result",
          "data": {
            "text/html": [
              "<div>\n",
              "<style scoped>\n",
              "    .dataframe tbody tr th:only-of-type {\n",
              "        vertical-align: middle;\n",
              "    }\n",
              "\n",
              "    .dataframe tbody tr th {\n",
              "        vertical-align: top;\n",
              "    }\n",
              "\n",
              "    .dataframe thead th {\n",
              "        text-align: right;\n",
              "    }\n",
              "</style>\n",
              "<table border=\"1\" class=\"dataframe\">\n",
              "  <thead>\n",
              "    <tr style=\"text-align: right;\">\n",
              "      <th></th>\n",
              "      <th>HAEMATOCRIT</th>\n",
              "      <th>HAEMOGLOBINS</th>\n",
              "      <th>ERYTHROCYTE</th>\n",
              "      <th>LEUCOCYTE</th>\n",
              "      <th>THROMBOCYTE</th>\n",
              "      <th>MCH</th>\n",
              "      <th>MCHC</th>\n",
              "      <th>MCV</th>\n",
              "      <th>AGE</th>\n",
              "      <th>SEX</th>\n",
              "    </tr>\n",
              "  </thead>\n",
              "  <tbody>\n",
              "    <tr>\n",
              "      <th>0</th>\n",
              "      <td>35.1</td>\n",
              "      <td>11.8</td>\n",
              "      <td>4.65</td>\n",
              "      <td>6.3</td>\n",
              "      <td>310</td>\n",
              "      <td>25.4</td>\n",
              "      <td>33.6</td>\n",
              "      <td>75.5</td>\n",
              "      <td>1</td>\n",
              "      <td>0</td>\n",
              "    </tr>\n",
              "    <tr>\n",
              "      <th>1</th>\n",
              "      <td>43.5</td>\n",
              "      <td>14.8</td>\n",
              "      <td>5.39</td>\n",
              "      <td>12.7</td>\n",
              "      <td>334</td>\n",
              "      <td>27.5</td>\n",
              "      <td>34.0</td>\n",
              "      <td>80.7</td>\n",
              "      <td>1</td>\n",
              "      <td>0</td>\n",
              "    </tr>\n",
              "    <tr>\n",
              "      <th>2</th>\n",
              "      <td>33.5</td>\n",
              "      <td>11.3</td>\n",
              "      <td>4.74</td>\n",
              "      <td>13.2</td>\n",
              "      <td>305</td>\n",
              "      <td>23.8</td>\n",
              "      <td>33.7</td>\n",
              "      <td>70.7</td>\n",
              "      <td>1</td>\n",
              "      <td>0</td>\n",
              "    </tr>\n",
              "    <tr>\n",
              "      <th>3</th>\n",
              "      <td>39.1</td>\n",
              "      <td>13.7</td>\n",
              "      <td>4.98</td>\n",
              "      <td>10.5</td>\n",
              "      <td>366</td>\n",
              "      <td>27.5</td>\n",
              "      <td>35.0</td>\n",
              "      <td>78.5</td>\n",
              "      <td>1</td>\n",
              "      <td>0</td>\n",
              "    </tr>\n",
              "    <tr>\n",
              "      <th>4</th>\n",
              "      <td>30.9</td>\n",
              "      <td>9.9</td>\n",
              "      <td>4.23</td>\n",
              "      <td>22.1</td>\n",
              "      <td>333</td>\n",
              "      <td>23.4</td>\n",
              "      <td>32.0</td>\n",
              "      <td>73.0</td>\n",
              "      <td>1</td>\n",
              "      <td>1</td>\n",
              "    </tr>\n",
              "    <tr>\n",
              "      <th>...</th>\n",
              "      <td>...</td>\n",
              "      <td>...</td>\n",
              "      <td>...</td>\n",
              "      <td>...</td>\n",
              "      <td>...</td>\n",
              "      <td>...</td>\n",
              "      <td>...</td>\n",
              "      <td>...</td>\n",
              "      <td>...</td>\n",
              "      <td>...</td>\n",
              "    </tr>\n",
              "    <tr>\n",
              "      <th>4407</th>\n",
              "      <td>32.8</td>\n",
              "      <td>10.4</td>\n",
              "      <td>3.49</td>\n",
              "      <td>8.1</td>\n",
              "      <td>72</td>\n",
              "      <td>29.8</td>\n",
              "      <td>31.7</td>\n",
              "      <td>94.0</td>\n",
              "      <td>92</td>\n",
              "      <td>0</td>\n",
              "    </tr>\n",
              "    <tr>\n",
              "      <th>4408</th>\n",
              "      <td>33.7</td>\n",
              "      <td>10.8</td>\n",
              "      <td>3.67</td>\n",
              "      <td>6.7</td>\n",
              "      <td>70</td>\n",
              "      <td>29.4</td>\n",
              "      <td>32.0</td>\n",
              "      <td>91.8</td>\n",
              "      <td>92</td>\n",
              "      <td>0</td>\n",
              "    </tr>\n",
              "    <tr>\n",
              "      <th>4409</th>\n",
              "      <td>33.2</td>\n",
              "      <td>11.2</td>\n",
              "      <td>3.47</td>\n",
              "      <td>7.2</td>\n",
              "      <td>235</td>\n",
              "      <td>32.3</td>\n",
              "      <td>33.7</td>\n",
              "      <td>95.7</td>\n",
              "      <td>93</td>\n",
              "      <td>0</td>\n",
              "    </tr>\n",
              "    <tr>\n",
              "      <th>4410</th>\n",
              "      <td>31.5</td>\n",
              "      <td>10.4</td>\n",
              "      <td>3.15</td>\n",
              "      <td>9.1</td>\n",
              "      <td>187</td>\n",
              "      <td>33.0</td>\n",
              "      <td>33.0</td>\n",
              "      <td>100.0</td>\n",
              "      <td>98</td>\n",
              "      <td>0</td>\n",
              "    </tr>\n",
              "    <tr>\n",
              "      <th>4411</th>\n",
              "      <td>33.5</td>\n",
              "      <td>10.9</td>\n",
              "      <td>3.44</td>\n",
              "      <td>5.8</td>\n",
              "      <td>275</td>\n",
              "      <td>31.7</td>\n",
              "      <td>32.5</td>\n",
              "      <td>97.4</td>\n",
              "      <td>99</td>\n",
              "      <td>0</td>\n",
              "    </tr>\n",
              "  </tbody>\n",
              "</table>\n",
              "<p>4412 rows × 10 columns</p>\n",
              "</div>"
            ],
            "text/plain": [
              "      HAEMATOCRIT  HAEMOGLOBINS  ERYTHROCYTE  LEUCOCYTE  ...  MCHC    MCV  AGE  SEX\n",
              "0            35.1          11.8         4.65        6.3  ...  33.6   75.5    1    0\n",
              "1            43.5          14.8         5.39       12.7  ...  34.0   80.7    1    0\n",
              "2            33.5          11.3         4.74       13.2  ...  33.7   70.7    1    0\n",
              "3            39.1          13.7         4.98       10.5  ...  35.0   78.5    1    0\n",
              "4            30.9           9.9         4.23       22.1  ...  32.0   73.0    1    1\n",
              "...           ...           ...          ...        ...  ...   ...    ...  ...  ...\n",
              "4407         32.8          10.4         3.49        8.1  ...  31.7   94.0   92    0\n",
              "4408         33.7          10.8         3.67        6.7  ...  32.0   91.8   92    0\n",
              "4409         33.2          11.2         3.47        7.2  ...  33.7   95.7   93    0\n",
              "4410         31.5          10.4         3.15        9.1  ...  33.0  100.0   98    0\n",
              "4411         33.5          10.9         3.44        5.8  ...  32.5   97.4   99    0\n",
              "\n",
              "[4412 rows x 10 columns]"
            ]
          },
          "metadata": {
            "tags": []
          },
          "execution_count": 17
        }
      ]
    },
    {
      "cell_type": "code",
      "metadata": {
        "colab": {
          "base_uri": "https://localhost:8080/"
        },
        "id": "R5VmRBZWyMgt",
        "outputId": "bf885e28-39cf-4d4b-bde7-409b3430db14"
      },
      "source": [
        "Y"
      ],
      "execution_count": 18,
      "outputs": [
        {
          "output_type": "execute_result",
          "data": {
            "text/plain": [
              "0       out\n",
              "1       out\n",
              "2       out\n",
              "3       out\n",
              "4       out\n",
              "       ... \n",
              "4407     in\n",
              "4408     in\n",
              "4409    out\n",
              "4410     in\n",
              "4411    out\n",
              "Name: SOURCE, Length: 4412, dtype: object"
            ]
          },
          "metadata": {
            "tags": []
          },
          "execution_count": 18
        }
      ]
    },
    {
      "cell_type": "markdown",
      "metadata": {
        "id": "wzJD2laCyOh9"
      },
      "source": [
        "# Train-test Split"
      ]
    },
    {
      "cell_type": "code",
      "metadata": {
        "id": "lKHVcpxEyNHV"
      },
      "source": [
        "X_train, X_test, Y_train, Y_test = train_test_split(X, Y, test_size = 0.3, shuffle = True, random_state =1)"
      ],
      "execution_count": 19,
      "outputs": []
    },
    {
      "cell_type": "code",
      "metadata": {
        "colab": {
          "base_uri": "https://localhost:8080/"
        },
        "id": "M7Vm7MKsykD-",
        "outputId": "e074a01e-dead-4e80-c73b-5605770be08a"
      },
      "source": [
        "X.shape, X_train.shape, X_test.shape"
      ],
      "execution_count": 20,
      "outputs": [
        {
          "output_type": "execute_result",
          "data": {
            "text/plain": [
              "((4412, 10), (3088, 10), (1324, 10))"
            ]
          },
          "metadata": {
            "tags": []
          },
          "execution_count": 20
        }
      ]
    },
    {
      "cell_type": "markdown",
      "metadata": {
        "id": "60tu0iatyx1f"
      },
      "source": [
        "# Scaling"
      ]
    },
    {
      "cell_type": "code",
      "metadata": {
        "id": "HoWYSirJynG-"
      },
      "source": [
        "scaler = StandardScaler()\n",
        "\n",
        "scaler.fit(X_train)\n",
        "X_train = pd.DataFrame(scaler.transform(X_train), index = X_train.index, columns = X_train.columns)\n",
        "X_test = pd.DataFrame(scaler.transform(X_test), index = X_test.index, columns = X_test.columns)"
      ],
      "execution_count": 26,
      "outputs": []
    },
    {
      "cell_type": "code",
      "metadata": {
        "colab": {
          "base_uri": "https://localhost:8080/",
          "height": 422
        },
        "id": "hPuU5bzWyr5l",
        "outputId": "26ee9e83-e011-4c42-9aba-67e9453f26c1"
      },
      "source": [
        "X_train"
      ],
      "execution_count": 27,
      "outputs": [
        {
          "output_type": "execute_result",
          "data": {
            "text/html": [
              "<div>\n",
              "<style scoped>\n",
              "    .dataframe tbody tr th:only-of-type {\n",
              "        vertical-align: middle;\n",
              "    }\n",
              "\n",
              "    .dataframe tbody tr th {\n",
              "        vertical-align: top;\n",
              "    }\n",
              "\n",
              "    .dataframe thead th {\n",
              "        text-align: right;\n",
              "    }\n",
              "</style>\n",
              "<table border=\"1\" class=\"dataframe\">\n",
              "  <thead>\n",
              "    <tr style=\"text-align: right;\">\n",
              "      <th></th>\n",
              "      <th>HAEMATOCRIT</th>\n",
              "      <th>HAEMOGLOBINS</th>\n",
              "      <th>ERYTHROCYTE</th>\n",
              "      <th>LEUCOCYTE</th>\n",
              "      <th>THROMBOCYTE</th>\n",
              "      <th>MCH</th>\n",
              "      <th>MCHC</th>\n",
              "      <th>MCV</th>\n",
              "      <th>AGE</th>\n",
              "      <th>SEX</th>\n",
              "    </tr>\n",
              "  </thead>\n",
              "  <tbody>\n",
              "    <tr>\n",
              "      <th>2275</th>\n",
              "      <td>1.521571</td>\n",
              "      <td>0.918324</td>\n",
              "      <td>4.205082</td>\n",
              "      <td>-0.507635</td>\n",
              "      <td>-0.368181</td>\n",
              "      <td>-3.543672</td>\n",
              "      <td>-1.886871</td>\n",
              "      <td>-3.523787</td>\n",
              "      <td>0.113088</td>\n",
              "      <td>-1.043023</td>\n",
              "    </tr>\n",
              "    <tr>\n",
              "      <th>4093</th>\n",
              "      <td>-0.590225</td>\n",
              "      <td>-0.613524</td>\n",
              "      <td>-0.673427</td>\n",
              "      <td>-0.468456</td>\n",
              "      <td>-0.184678</td>\n",
              "      <td>0.106741</td>\n",
              "      <td>-0.267275</td>\n",
              "      <td>0.263954</td>\n",
              "      <td>1.411455</td>\n",
              "      <td>-1.043023</td>\n",
              "    </tr>\n",
              "    <tr>\n",
              "      <th>1727</th>\n",
              "      <td>-1.512041</td>\n",
              "      <td>-1.618799</td>\n",
              "      <td>-1.463160</td>\n",
              "      <td>0.099634</td>\n",
              "      <td>1.195966</td>\n",
              "      <td>-0.228501</td>\n",
              "      <td>-0.996093</td>\n",
              "      <td>0.191392</td>\n",
              "      <td>-0.350615</td>\n",
              "      <td>-1.043023</td>\n",
              "    </tr>\n",
              "    <tr>\n",
              "      <th>615</th>\n",
              "      <td>0.817639</td>\n",
              "      <td>0.870454</td>\n",
              "      <td>0.765924</td>\n",
              "      <td>-0.488046</td>\n",
              "      <td>-0.140986</td>\n",
              "      <td>0.032243</td>\n",
              "      <td>0.380563</td>\n",
              "      <td>-0.127881</td>\n",
              "      <td>-1.138910</td>\n",
              "      <td>0.958752</td>\n",
              "    </tr>\n",
              "    <tr>\n",
              "      <th>1610</th>\n",
              "      <td>0.348351</td>\n",
              "      <td>0.391752</td>\n",
              "      <td>-0.036546</td>\n",
              "      <td>-0.311742</td>\n",
              "      <td>0.260973</td>\n",
              "      <td>0.665478</td>\n",
              "      <td>0.299583</td>\n",
              "      <td>0.670302</td>\n",
              "      <td>-0.443356</td>\n",
              "      <td>-1.043023</td>\n",
              "    </tr>\n",
              "    <tr>\n",
              "      <th>...</th>\n",
              "      <td>...</td>\n",
              "      <td>...</td>\n",
              "      <td>...</td>\n",
              "      <td>...</td>\n",
              "      <td>...</td>\n",
              "      <td>...</td>\n",
              "      <td>...</td>\n",
              "      <td>...</td>\n",
              "      <td>...</td>\n",
              "      <td>...</td>\n",
              "    </tr>\n",
              "    <tr>\n",
              "      <th>2895</th>\n",
              "      <td>0.029906</td>\n",
              "      <td>0.056660</td>\n",
              "      <td>-0.240348</td>\n",
              "      <td>-0.781885</td>\n",
              "      <td>0.531859</td>\n",
              "      <td>0.479233</td>\n",
              "      <td>0.137624</td>\n",
              "      <td>0.510665</td>\n",
              "      <td>0.576790</td>\n",
              "      <td>-1.043023</td>\n",
              "    </tr>\n",
              "    <tr>\n",
              "      <th>2763</th>\n",
              "      <td>-0.003615</td>\n",
              "      <td>-0.278432</td>\n",
              "      <td>-0.533314</td>\n",
              "      <td>-0.703528</td>\n",
              "      <td>0.182329</td>\n",
              "      <td>0.479233</td>\n",
              "      <td>-1.158053</td>\n",
              "      <td>1.149211</td>\n",
              "      <td>0.484050</td>\n",
              "      <td>-1.043023</td>\n",
              "    </tr>\n",
              "    <tr>\n",
              "      <th>905</th>\n",
              "      <td>1.320448</td>\n",
              "      <td>1.444897</td>\n",
              "      <td>0.753186</td>\n",
              "      <td>-0.488046</td>\n",
              "      <td>0.907604</td>\n",
              "      <td>0.926222</td>\n",
              "      <td>0.704482</td>\n",
              "      <td>0.742864</td>\n",
              "      <td>-0.953429</td>\n",
              "      <td>0.958752</td>\n",
              "    </tr>\n",
              "    <tr>\n",
              "      <th>3980</th>\n",
              "      <td>-0.539944</td>\n",
              "      <td>-0.565653</td>\n",
              "      <td>-0.558789</td>\n",
              "      <td>-0.703528</td>\n",
              "      <td>-0.420611</td>\n",
              "      <td>-0.005006</td>\n",
              "      <td>-0.267275</td>\n",
              "      <td>0.089805</td>\n",
              "      <td>1.318715</td>\n",
              "      <td>0.958752</td>\n",
              "    </tr>\n",
              "    <tr>\n",
              "      <th>235</th>\n",
              "      <td>-0.288540</td>\n",
              "      <td>-0.230562</td>\n",
              "      <td>-0.011071</td>\n",
              "      <td>0.334706</td>\n",
              "      <td>0.732839</td>\n",
              "      <td>-0.451995</td>\n",
              "      <td>0.218603</td>\n",
              "      <td>-0.606791</td>\n",
              "      <td>-1.741723</td>\n",
              "      <td>-1.043023</td>\n",
              "    </tr>\n",
              "  </tbody>\n",
              "</table>\n",
              "<p>3088 rows × 10 columns</p>\n",
              "</div>"
            ],
            "text/plain": [
              "      HAEMATOCRIT  HAEMOGLOBINS  ERYTHROCYTE  ...       MCV       AGE       SEX\n",
              "2275     1.521571      0.918324     4.205082  ... -3.523787  0.113088 -1.043023\n",
              "4093    -0.590225     -0.613524    -0.673427  ...  0.263954  1.411455 -1.043023\n",
              "1727    -1.512041     -1.618799    -1.463160  ...  0.191392 -0.350615 -1.043023\n",
              "615      0.817639      0.870454     0.765924  ... -0.127881 -1.138910  0.958752\n",
              "1610     0.348351      0.391752    -0.036546  ...  0.670302 -0.443356 -1.043023\n",
              "...           ...           ...          ...  ...       ...       ...       ...\n",
              "2895     0.029906      0.056660    -0.240348  ...  0.510665  0.576790 -1.043023\n",
              "2763    -0.003615     -0.278432    -0.533314  ...  1.149211  0.484050 -1.043023\n",
              "905      1.320448      1.444897     0.753186  ...  0.742864 -0.953429  0.958752\n",
              "3980    -0.539944     -0.565653    -0.558789  ...  0.089805  1.318715  0.958752\n",
              "235     -0.288540     -0.230562    -0.011071  ... -0.606791 -1.741723 -1.043023\n",
              "\n",
              "[3088 rows x 10 columns]"
            ]
          },
          "metadata": {
            "tags": []
          },
          "execution_count": 27
        }
      ]
    },
    {
      "cell_type": "markdown",
      "metadata": {
        "id": "Dbdg4r9A0dym"
      },
      "source": [
        "  # Training the model"
      ]
    },
    {
      "cell_type": "code",
      "metadata": {
        "colab": {
          "base_uri": "https://localhost:8080/"
        },
        "id": "sekM7P7P0LH1",
        "outputId": "ca889d41-94c6-46a6-c193-be0ed307ce18"
      },
      "source": [
        "models = {\n",
        "    'Logistic Regression' : LogisticRegression(),\n",
        "    'Decision Tree' : DecisionTreeClassifier(),\n",
        "    'MLP Classifier' : MLPClassifier(),\n",
        "    'Random Forest' : RandomForestClassifier(),\n",
        "    'Gradient Boosting' : GradientBoostingClassifier()\n",
        "}\n",
        "\n",
        "for name, model in models.items():\n",
        "  model.fit(X_train,Y_train)\n",
        "  print(name + ' trained!')"
      ],
      "execution_count": 31,
      "outputs": [
        {
          "output_type": "stream",
          "text": [
            "Logistic Regression trained!\n",
            "Decision Tree trained!\n",
            "MLP Classifier trained!\n",
            "Random Forest trained!\n",
            "Gradient Boosting trained!\n"
          ],
          "name": "stdout"
        }
      ]
    },
    {
      "cell_type": "markdown",
      "metadata": {
        "id": "L3M1y4VH3gcO"
      },
      "source": [
        "# Accuracy Score"
      ]
    },
    {
      "cell_type": "code",
      "metadata": {
        "colab": {
          "base_uri": "https://localhost:8080/"
        },
        "id": "nmDSWQ1P1KeX",
        "outputId": "568ae6b0-aff6-4070-cb71-a68b05e175cf"
      },
      "source": [
        "for name, model in models.items():\n",
        "  y_pred = model.predict(X_test)\n",
        "  acc_score = accuracy_score(Y_test, y_pred)\n",
        "  print(name + 'Accuracy:{:.2f}'.format(acc_score * 100))\n",
        "  "
      ],
      "execution_count": 38,
      "outputs": [
        {
          "output_type": "stream",
          "text": [
            "Logistic RegressionAccuracy:71.15\n",
            "Decision TreeAccuracy:65.48\n",
            "MLP ClassifierAccuracy:74.24\n",
            "Random ForestAccuracy:73.49\n",
            "Gradient BoostingAccuracy:73.72\n"
          ],
          "name": "stdout"
        }
      ]
    },
    {
      "cell_type": "markdown",
      "metadata": {
        "id": "rVSf57XQ3ia9"
      },
      "source": [
        "# F1 Score"
      ]
    },
    {
      "cell_type": "code",
      "metadata": {
        "colab": {
          "base_uri": "https://localhost:8080/"
        },
        "id": "150W5uVV1oEX",
        "outputId": "231ccf85-b1bb-4c12-b90c-7c0091918bdd"
      },
      "source": [
        "for name, model in models.items():\n",
        "  y_pred = model.predict(X_test)\n",
        "  f1_scr = f1_score(Y_test, y_pred, pos_label = 'in')\n",
        "  print(name + ' f1 Score:{:.2f}'.format(f1_scr * 100))"
      ],
      "execution_count": 41,
      "outputs": [
        {
          "output_type": "stream",
          "text": [
            "Logistic Regression f1 Score:59.70\n",
            "Decision Tree f1 Score:57.96\n",
            "MLP Classifier f1 Score:66.34\n",
            "Random Forest f1 Score:65.82\n",
            "Gradient Boosting f1 Score:64.85\n"
          ],
          "name": "stdout"
        }
      ]
    },
    {
      "cell_type": "markdown",
      "metadata": {
        "id": "6n1tmEDU6dQP"
      },
      "source": [
        "# Making a predictive system"
      ]
    },
    {
      "cell_type": "code",
      "metadata": {
        "colab": {
          "base_uri": "https://localhost:8080/"
        },
        "id": "DtOWnXKq1u0e",
        "outputId": "773b7594-ef61-4e55-ee3d-066989c8ed73"
      },
      "source": [
        "input_data = (1.521571,\t0.918324,\t4.205082,\t-0.507635,\t-0.368181,\t-3.543672,\t-1.886871,\t-3.523787,\t0.113088,\t-1.043023)\n",
        "\n",
        "input_numpy = np.asarray(input_data)\n",
        "\n",
        "#reshape\n",
        "input_data_reshape = input_numpy.reshape(1, -1)\n",
        "\n",
        "for name, model in models.items():\n",
        "  prediction = model.predict(input_data_reshape)\n",
        "  print(name + ' predicts ' +prediction[0]+ 'care patient')"
      ],
      "execution_count": 57,
      "outputs": [
        {
          "output_type": "stream",
          "text": [
            "Logistic Regression predicts outcare patient\n",
            "Decision Tree predicts outcare patient\n",
            "MLP Classifier predicts outcare patient\n",
            "Random Forest predicts outcare patient\n",
            "Gradient Boosting predicts outcare patient\n"
          ],
          "name": "stdout"
        }
      ]
    },
    {
      "cell_type": "code",
      "metadata": {
        "id": "TqhrBXH26Yge"
      },
      "source": [
        ""
      ],
      "execution_count": null,
      "outputs": []
    }
  ]
}